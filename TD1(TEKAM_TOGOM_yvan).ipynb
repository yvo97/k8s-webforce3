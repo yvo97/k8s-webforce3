{
  "cells": [
    {
      "cell_type": "markdown",
      "metadata": {
        "id": "view-in-github",
        "colab_type": "text"
      },
      "source": [
        "<a href=\"https://colab.research.google.com/github/yvo97/k8s-webforce3/blob/master/TD1(TEKAM_TOGOM_yvan).ipynb\" target=\"_parent\"><img src=\"https://colab.research.google.com/assets/colab-badge.svg\" alt=\"Open In Colab\"/></a>"
      ]
    },
    {
      "cell_type": "markdown",
      "metadata": {
        "id": "hM8YtsU6faYj"
      },
      "source": [
        "<img src=\"data:image/png;base64,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\" alt=\"Tech Logo\" align=\"center\" height=\"400\" width=\"400\"/>"
      ]
    },
    {
      "cell_type": "markdown",
      "metadata": {
        "id": "2pkkvWdyfaYz"
      },
      "source": [
        "<h1 align=\"center\">ICO 4168 - Réseaux de Neurones</h1>"
      ]
    },
    {
      "cell_type": "markdown",
      "source": [
        "# **# TEKAM TOGOM Yvan**"
      ],
      "metadata": {
        "id": "sjmopkFT_N83"
      }
    },
    {
      "cell_type": "markdown",
      "metadata": {
        "id": "Fm7TuRmwfaY0"
      },
      "source": [
        "<h2 align=\"center\">TD1 - Classifiez des chiffres manuscrits avec KNN</h2>"
      ]
    },
    {
      "cell_type": "markdown",
      "metadata": {
        "id": "B8Bo_nPnfaY1"
      },
      "source": [
        "Pour ce TD, vous implémenterez plusieurs classifieurs KNN sur le jeu de données MNIST avec la librairie scikit-learn. Utilisez ce notebook Jupyter qui passe en revue chaque partie du TD pour présenter des preuves et une analyse de vos résultats"
      ]
    },
    {
      "cell_type": "markdown",
      "metadata": {
        "id": "2bn87c3afaY2"
      },
      "source": [
        "<h2 style=\"text-align: left; font-size: 25px\"><span>📥 <strong>Import des librairies </strong></span></h2>"
      ]
    },
    {
      "cell_type": "code",
      "execution_count": 7,
      "metadata": {
        "id": "T49dh2X_faY3"
      },
      "outputs": [],
      "source": [
        "# Import Pandas\n",
        "import pandas as pd\n",
        "\n",
        "# Import Numpy\n",
        "import numpy as np\n",
        "\n",
        "# Import scipy classes\n",
        "from scipy.stats import mode\n",
        "from scipy.sparse import issparse, csr_matrix\n",
        "\n",
        "# Import the package mnist from keras\n",
        "from tensorflow.keras.datasets import mnist\n",
        "\n",
        "# Import pyplot from matplotlib as plt\n",
        "import matplotlib.pyplot as plt\n",
        "%matplotlib inline\n",
        "\n",
        "# Import Seaborn\n",
        "import seaborn as sns\n",
        "\n",
        "# Import warnings\n",
        "import warnings \n",
        "warnings.filterwarnings('ignore')\n",
        "\n",
        "# Import Sklearn\n",
        "from sklearn.metrics import confusion_matrix\n",
        "from sklearn.metrics import accuracy_score\n",
        "from sklearn.metrics.pairwise import check_pairwise_arrays\n",
        "from sklearn.neighbors import KNeighborsClassifier"
      ]
    },
    {
      "cell_type": "markdown",
      "metadata": {
        "id": "dSlcE6yFfaY6"
      },
      "source": [
        "Téléchargez le jeu de données MNIST à partir de http://yann.lecun.com/exdb/mnist/ Liens vers un site externe. Il existe un jeu de données d'entraînement et un jeu de données de test. Chaque image mesure 28x28 pixels "
      ]
    },
    {
      "cell_type": "markdown",
      "metadata": {
        "id": "m_0GIZYFfaY7"
      },
      "source": [
        "<h2 style=\"text-align: left; font-size: 25px\"><span>💾 <strong>A propos du jeu de données MNIST</strong></span></h2>"
      ]
    },
    {
      "cell_type": "markdown",
      "metadata": {
        "id": "I3Rcpl1EfaY9"
      },
      "source": [
        "Avant d'aborder l'ensemble de données, les modèles et tout le reste, nous allons d'abord comprendre en quoi consistent les données. MNIST est une collection d'images de chiffres manuscrits qui est considéré comme l'un des meilleurs jeux de données utilisés pour découvrir le machine learning. \n",
        "\n",
        "Le jeu de données se compose de 60 000 images d'entraînement et de 10 000 images de test servant à la conception de nos modèles. Cet ensemble de données MNIST par défaut est disponible dans le package keras. "
      ]
    },
    {
      "cell_type": "markdown",
      "metadata": {
        "id": "HgGHMPoCfaY-"
      },
      "source": [
        "# 1. Chargement du jeu de données"
      ]
    },
    {
      "cell_type": "code",
      "execution_count": 8,
      "metadata": {
        "colab": {
          "base_uri": "https://localhost:8080/",
          "height": 0
        },
        "id": "YAmxv4r1faY_",
        "outputId": "8f7e2b1c-5b5d-4828-90a4-433d171d0799"
      },
      "outputs": [
        {
          "output_type": "stream",
          "name": "stdout",
          "text": [
            "Downloading data from https://storage.googleapis.com/tensorflow/tf-keras-datasets/mnist.npz\n",
            "11493376/11490434 [==============================] - 0s 0us/step\n",
            "11501568/11490434 [==============================] - 0s 0us/step\n"
          ]
        }
      ],
      "source": [
        "# Chargement du jeu de données en 2 sous-ensembles\n",
        "(trainX, trainY), (testX, testY) = mnist.load_data()"
      ]
    },
    {
      "cell_type": "markdown",
      "metadata": {
        "id": "SuqP2I0WfaZA"
      },
      "source": [
        "Confirmons que nous avons les images manuscrits en affichant les 5 premières images. En python, les images sont affichées à l'aide du package appelé matplotlib. Nous allons donc d'abord l'importer, puis en l'utilisant, nous afficherons les images. "
      ]
    },
    {
      "cell_type": "code",
      "execution_count": 9,
      "metadata": {
        "colab": {
          "base_uri": "https://localhost:8080/",
          "height": 222
        },
        "id": "ItgJ8Qs4faZA",
        "outputId": "c612a6f8-2f54-484e-bc5e-adab6375e48c"
      },
      "outputs": [
        {
          "output_type": "display_data",
          "data": {
            "image/png": "[encoded data removed]",
            "text/plain": [
              "<Figure size 1296x648 with 5 Axes>"
            ]
          },
          "metadata": {
            "needs_background": "light"
          }
        }
      ],
      "source": [
        "# Affichage des 5 premières images\n",
        "plt.figure(figsize=(18, 9))\n",
        "\n",
        "for i in range(5):\n",
        "    plt.subplot(1, 5, i+1)\n",
        "    plt.imshow(trainX[i].reshape(28, 28))\n",
        "\n",
        "plt.show()"
      ]
    },
    {
      "cell_type": "markdown",
      "metadata": {
        "id": "2aPQHSjgfaZB"
      },
      "source": [
        "Nous avons le chiffre 5 comme première image dans l'ensemble d'apprentissage, et les images sont de dimensions 28x28. Nous sommes donc sûrs que nos données sont authentiques.\n",
        "\n",
        "Il est toujours utile lorsque vous travaillez avec un problème de vision par ordinateur de tracer les données avant de faire un travail de modélisation. Il s'agit d'une vérification rapide de l'intégrité qui peut éviter des erreurs facilement évitables telles qu'une mauvaise interprétation des dimensions des données "
      ]
    },
    {
      "cell_type": "markdown",
      "metadata": {
        "id": "3rmp56pSfaZC"
      },
      "source": [
        "# 2. Pré-traitement"
      ]
    },
    {
      "cell_type": "markdown",
      "metadata": {
        "id": "oV0IcE7-faZC"
      },
      "source": [
        "Maintenant que nous avons chargé le jeu de données, examinons ses dimensions qui vont indiquer le nombre d'images que nous avons dans nos données."
      ]
    },
    {
      "cell_type": "code",
      "execution_count": 10,
      "metadata": {
        "colab": {
          "base_uri": "https://localhost:8080/",
          "height": 0
        },
        "id": "ZE_N8k5pfaZC",
        "outputId": "6c78c3b8-8e9c-4acc-a6a6-44ee34863df6"
      },
      "outputs": [
        {
          "output_type": "stream",
          "name": "stdout",
          "text": [
            "(60000, 28, 28)\n",
            "(10000, 28, 28)\n"
          ]
        }
      ],
      "source": [
        "# Dimensions du jeu de données\n",
        "print(trainX.shape)\n",
        "print(testX.shape)"
      ]
    },
    {
      "cell_type": "markdown",
      "metadata": {
        "id": "Xhgld8e9faZD"
      },
      "source": [
        "Il semble donc qu'il y ait 60 000 images dans le jeu de données d'entrainement et 10 000 images dans le jeu de données de test. Chaque image est de taille 28*28 pixels.\n",
        "\n",
        "Mais nous avons un problème. Avoir les images sous forme de tableau représentant les pixels de l'image, c'est-à-dire (nombre d'images, hauteur, largeur) ne va pas nous aider pour la représentation des caractéristiques alogithum KNN. Nous devons le remodeler dans le format suivant.\n",
        "\n",
        "(Nombre d'images, largeur * hauteur)"
      ]
    },
    {
      "cell_type": "code",
      "execution_count": 11,
      "metadata": {
        "colab": {
          "base_uri": "https://localhost:8080/",
          "height": 0
        },
        "id": "EtwwXp15faZD",
        "outputId": "0e644dd5-0b00-4676-9870-5f2522d689e9"
      },
      "outputs": [
        {
          "output_type": "stream",
          "name": "stdout",
          "text": [
            "(60000, 784)\n",
            "(10000, 784)\n"
          ]
        }
      ],
      "source": [
        "# Re-dimensionnement des images\n",
        "X_train = trainX.reshape(trainX.shape[0], trainX.shape[1] * trainX.shape[1])\n",
        "X_test = testX.reshape(testX.shape[0], testX.shape[1] * testX.shape[1])\n",
        "\n",
        "# Vérification du redimensionnement\n",
        "print(X_train.shape)\n",
        "print(X_test.shape)"
      ]
    },
    {
      "cell_type": "markdown",
      "metadata": {
        "id": "wih5jVPOfaZE"
      },
      "source": [
        "Afin d'être sûr que nous n'avons perdu aucune information lors du redimensionnement, nous allons remettre les 5 premières images à l'ancienne dimension et essayez de l'afficher afin de vérifier si elle est lisible "
      ]
    },
    {
      "cell_type": "code",
      "execution_count": 12,
      "metadata": {
        "colab": {
          "base_uri": "https://localhost:8080/",
          "height": 257
        },
        "id": "zcF6gc9KfaZF",
        "outputId": "337c837b-a19f-41da-cd91-3a6ca6d4989b"
      },
      "outputs": [
        {
          "output_type": "display_data",
          "data": {
            "image/png": "[encoded data removed]",
            "text/plain": [
              "<Figure size 1296x648 with 5 Axes>"
            ]
          },
          "metadata": {
            "needs_background": "light"
          }
        },
        {
          "output_type": "stream",
          "name": "stdout",
          "text": [
            "CPU times: user 533 ms, sys: 7.27 ms, total: 540 ms\n",
            "Wall time: 546 ms\n"
          ]
        }
      ],
      "source": [
        "%%time\n",
        "# Affichage des 5 premières images\n",
        "plt.figure(figsize=(18, 9))\n",
        "\n",
        "for i in range(5):\n",
        "    plt.subplot(1, 5, i+1)\n",
        "    plt.imshow(X_train[i].reshape(28, 28))\n",
        "\n",
        "plt.show()"
      ]
    },
    {
      "cell_type": "markdown",
      "metadata": {
        "id": "M_uJW6jqfaZF"
      },
      "source": [
        "Ainsi, cela prouve que nous avons correctement redimensionné nos images d'entrainement et de test."
      ]
    },
    {
      "cell_type": "markdown",
      "metadata": {
        "id": "Xp9m9qhzfaZF"
      },
      "source": [
        "Faisons maintenant un focus sur les labels des images qui indiquent le chiffre dans l'image. Vérifions les dimensions du tableau numpy. "
      ]
    },
    {
      "cell_type": "code",
      "execution_count": 13,
      "metadata": {
        "colab": {
          "base_uri": "https://localhost:8080/",
          "height": 0
        },
        "id": "ZJcdQLQ6faZG",
        "outputId": "9c71802f-c942-48da-d68b-2f9063f60f57"
      },
      "outputs": [
        {
          "output_type": "stream",
          "name": "stdout",
          "text": [
            "(60000,)\n",
            "(10000,)\n"
          ]
        }
      ],
      "source": [
        "# Afficher les dimensions des vecteurs des labels\n",
        "print(trainY.shape)\n",
        "print(testY.shape)"
      ]
    },
    {
      "cell_type": "markdown",
      "metadata": {
        "id": "C2cGuzGUfaZG"
      },
      "source": [
        "Nous allons devoir redimensionner les vecteurs des labels pour les mettre en forme (longueur des labels, 1) afin de faciliter le calcul de l'algorithme KNN. "
      ]
    },
    {
      "cell_type": "code",
      "execution_count": 14,
      "metadata": {
        "colab": {
          "base_uri": "https://localhost:8080/",
          "height": 0
        },
        "id": "vLH0e5vKfaZG",
        "outputId": "44df0721-e8d9-48b8-aa9e-af8a66c5dd38"
      },
      "outputs": [
        {
          "output_type": "stream",
          "name": "stdout",
          "text": [
            "(60000, 1)\n",
            "(10000, 1)\n"
          ]
        }
      ],
      "source": [
        "# Redimensionner les vecteurs labels\n",
        "y_train = trainY.reshape(len(trainY), 1)\n",
        "y_test = testY.reshape(len(testY), 1)\n",
        "\n",
        "# Vérifier les dimensions des vecteurs labels après redimensionnement\n",
        "print(y_train.shape)\n",
        "print(y_test.shape)"
      ]
    },
    {
      "cell_type": "code",
      "execution_count": 5,
      "metadata": {
        "id": "r2wDQ3uWfaZH"
      },
      "outputs": [],
      "source": [
        "def display_labels(labels_array):\n",
        "    labels_list = [elt[0] for elt in labels_array.tolist()]\n",
        "    labels_series = pd.Series(labels_list)\n",
        "    labels_series.value_counts(normalize=True).plot(kind=\"pie\", autopct='%.2f%%', shadow=True, figsize=(12,10))"
      ]
    },
    {
      "cell_type": "code",
      "execution_count": 15,
      "metadata": {
        "colab": {
          "base_uri": "https://localhost:8080/",
          "height": 653
        },
        "id": "IfzgyBYlfaZH",
        "outputId": "6be7c524-d3ff-49fa-e534-849d241b192c"
      },
      "outputs": [
        {
          "output_type": "display_data",
          "data": {
            "image/png": "[encoded data removed]",
            "text/plain": [
              "<Figure size 864x720 with 1 Axes>"
            ]
          },
          "metadata": {}
        },
        {
          "output_type": "display_data",
          "data": {
            "image/png": "[encoded data removed]",
            "text/plain": [
              "<Figure size 864x720 with 1 Axes>"
            ]
          },
          "metadata": {}
        }
      ],
      "source": [
        "#plt.figure(figsize=(18, 9))\n",
        "plt.subplot(1, 2, 1)\n",
        "display_labels(labels_array=y_train)\n",
        "\n",
        "plt.figure(figsize=(18, 9))\n",
        "plt.subplot(1, 2, 2)\n",
        "display_labels(labels_array=y_test)\n",
        "\n",
        "plt.show()"
      ]
    },
    {
      "cell_type": "markdown",
      "metadata": {
        "id": "V0TaS-H8faZH"
      },
      "source": [
        "Maintenant que nous avons fini l'analyse de nos données, commençons à répondre aux questions sur nos modèles. "
      ]
    },
    {
      "cell_type": "markdown",
      "metadata": {
        "id": "dvmI1zrmfaZI"
      },
      "source": [
        "# 3. Exercice 1 : impact du type de distance"
      ]
    },
    {
      "cell_type": "markdown",
      "metadata": {
        "id": "hfgI2_BDfaZI"
      },
      "source": [
        "## 1.1 KNN avec distance de Manhatthan"
      ]
    },
    {
      "cell_type": "markdown",
      "metadata": {
        "id": "Ca9NjckqfaZI"
      },
      "source": [
        "<p style=\"text-align: left; font-size: 16px; color:#0f767a\"><span>🖥️  Ecrivez le code permettant d'implémenter un classifieur à 1 voisin le plus proche qui considère les pixels de l'image comme un vecteur de caractéristiques. Le vecteur mesurera 28*28 = 784 dimensions (une caractéristique pour chaque pixel de l'image).<strong>Utilisez la distance de Manatthan comme paramètre de votre classifieur</strong> </span></p>"
      ]
    },
    {
      "cell_type": "code",
      "source": [
        "print(np.shape(X_test[0]))"
      ],
      "metadata": {
        "colab": {
          "base_uri": "https://localhost:8080/",
          "height": 0
        },
        "id": "y3aZyS4ngENl",
        "outputId": "eec4a900-ee7b-44cb-8432-70fb0e35ae8f"
      },
      "execution_count": 16,
      "outputs": [
        {
          "output_type": "stream",
          "name": "stdout",
          "text": [
            "(784,)\n"
          ]
        }
      ]
    },
    {
      "cell_type": "markdown",
      "metadata": {
        "id": "HbXAXc6FfaZI"
      },
      "source": [
        "<p style=\"text-align: left; font-size: 16px; color:#0f767a\"><span>🖥️  Indication : Utilisez le modèle <strong>KNeighborsClassifier</strong> de scikit-learn pour implémenter la solution. Créez d'abord le modèle et soumettez les données d'entrainement à l'aide de la méthode <strong>fit()</strong>  </span></p>"
      ]
    },
    {
      "cell_type": "code",
      "execution_count": 17,
      "metadata": {
        "colab": {
          "base_uri": "https://localhost:8080/",
          "height": 0
        },
        "id": "i47u7bJnfaZJ",
        "outputId": "7c0dfcd9-e235-4bfc-84de-893d957b0668"
      },
      "outputs": [
        {
          "output_type": "execute_result",
          "data": {
            "text/plain": [
              "KNeighborsClassifier(p=1)"
            ]
          },
          "metadata": {},
          "execution_count": 17
        }
      ],
      "source": [
        "MM2 = KNeighborsClassifier(p=1)\n",
        "MM2.fit(X_train,y_train)"
      ]
    },
    {
      "cell_type": "markdown",
      "metadata": {
        "id": "MpWiBrc6faZJ"
      },
      "source": [
        "<p style=\"text-align: left; font-size: 16px; color:#0f767a\"><span>🖥️  Ecrivez le code permettant de prédire le chiffre représenté dans les images de test, et de calculer la précision (accuracy) de l'algorithme</span></p>"
      ]
    },
    {
      "cell_type": "markdown",
      "metadata": {
        "id": "IM2XDHfEfaZJ"
      },
      "source": [
        "<p style=\"text-align: left; font-size: 16px; color:#0f767a\"><span>🖥️  Indication : utilisez la méthode predict() du modèle KNeighborsClassifier. Enregistrez le temps qu'il a fallu pour réaliser la prédiction sur les données de test</span></p>"
      ]
    },
    {
      "cell_type": "code",
      "execution_count": 18,
      "metadata": {
        "colab": {
          "base_uri": "https://localhost:8080/",
          "height": 0
        },
        "id": "QVSUfCBdfaZJ",
        "outputId": "07a74b4e-099d-475a-99d9-ed0ffc675349"
      },
      "outputs": [
        {
          "output_type": "execute_result",
          "data": {
            "text/plain": [
              "array([7, 2, 1, ..., 4, 5, 6], dtype=uint8)"
            ]
          },
          "metadata": {},
          "execution_count": 18
        }
      ],
      "source": [
        "MM2.predict(X_test)"
      ]
    },
    {
      "cell_type": "markdown",
      "metadata": {
        "id": "OHclDBApfaZK"
      },
      "source": [
        "## 1.2 KNN avec distance euclidienne"
      ]
    },
    {
      "cell_type": "markdown",
      "metadata": {
        "id": "Qj1upDhTfaZK"
      },
      "source": [
        "<p style=\"text-align: left; font-size: 16px; color:#0f767a\"><span>🖥️  Ecrivez le code permettant d'implémenter un classifieur à 1 voisin le plus proche qui considère les pixels de l'image comme un vecteur de caractéristiques. Le vecteur mesurera 28*28 = 784 dimensions (une caractéristique pour chaque pixel de l'image).<strong>Utilisez la distance de Manatthan comme paramètre de votre classifieur </strong></span></p>"
      ]
    },
    {
      "cell_type": "code",
      "execution_count": 19,
      "metadata": {
        "colab": {
          "base_uri": "https://localhost:8080/",
          "height": 0
        },
        "id": "4nKsXMR8faZK",
        "outputId": "2ed68de9-9ac3-441d-c255-2ccbb68f4d36"
      },
      "outputs": [
        {
          "output_type": "stream",
          "name": "stdout",
          "text": [
            "(784,)\n"
          ]
        }
      ],
      "source": [
        "print(np.shape(X_test[0]))"
      ]
    },
    {
      "cell_type": "code",
      "source": [
        "MM3 = KNeighborsClassifier(n_neighbors=1, p=2)\n",
        "MM3.fit(X_train,y_train)"
      ],
      "metadata": {
        "colab": {
          "base_uri": "https://localhost:8080/",
          "height": 0
        },
        "id": "HQtT9GCmjQZQ",
        "outputId": "4ac96327-8813-49ed-bbe9-fc770753e194"
      },
      "execution_count": 22,
      "outputs": [
        {
          "output_type": "execute_result",
          "data": {
            "text/plain": [
              "KNeighborsClassifier(n_neighbors=1)"
            ]
          },
          "metadata": {},
          "execution_count": 22
        }
      ]
    },
    {
      "cell_type": "markdown",
      "metadata": {
        "id": "s5R-KZHyfaZK"
      },
      "source": [
        "<p style=\"text-align: left; font-size: 16px; color:#0f767a\"><span>🖥️  Ecrivez le code permettant de prédire le chiffre représenté dans les images de test, et de calculer la précision (accuracy) de l'algorithme. Enrégistrez le temps de prédiction </span></p>"
      ]
    },
    {
      "cell_type": "code",
      "execution_count": 23,
      "metadata": {
        "colab": {
          "base_uri": "https://localhost:8080/",
          "height": 0
        },
        "id": "rlCzpe0QfaZK",
        "outputId": "f393f3d0-77ab-4bb8-f9ad-b1a8bde1207f"
      },
      "outputs": [
        {
          "output_type": "execute_result",
          "data": {
            "text/plain": [
              "0.9691"
            ]
          },
          "metadata": {},
          "execution_count": 23
        }
      ],
      "source": [
        "MM3.score(X_test,y_test)"
      ]
    },
    {
      "cell_type": "markdown",
      "metadata": {
        "id": "awmtawO0faZL"
      },
      "source": [
        "## 1.3 Analyse"
      ]
    },
    {
      "cell_type": "markdown",
      "metadata": {
        "id": "9DC07kSWfaZL"
      },
      "source": [
        "<p style=\"text-align: left; font-size: 16px; color:#7a0f43\"><span>❓  Quel est l'impact du type de distance sur la performance de l'algorithme ? Comment expliquez-vous cet impact ?</span></p>"
      ]
    },
    {
      "cell_type": "markdown",
      "source": [
        "La distance de Manhatthan effectue de lourde calcul et prend assez de temps pour de faible résultat. La distance euclidienne est plus mieux adapté a ce type de problème."
      ],
      "metadata": {
        "id": "qosOUhAXj0u8"
      }
    },
    {
      "cell_type": "markdown",
      "source": [
        "La distance de manhatthan a le plus d'impact sur le type de précision .\n",
        "La distance euclidienne est moin bonne dans les distances de grandes dimensions"
      ],
      "metadata": {
        "id": "2Y0_WI-_hnBm"
      }
    },
    {
      "cell_type": "code",
      "execution_count": 15,
      "metadata": {
        "id": "9zwZp1wEfaZL"
      },
      "outputs": [],
      "source": [
        ""
      ]
    },
    {
      "cell_type": "markdown",
      "metadata": {
        "id": "f4EJWiG3faZL"
      },
      "source": [
        "<p style=\"text-align: left; font-size: 16px; color:#7a0f43\"><span>❓  Au regard de ces impacts, quelle variante de KNN retenez-vous ? </span></p>"
      ]
    },
    {
      "cell_type": "markdown",
      "source": [
        "Avec une précision de 96,91%, KNN avec K =1 semble etre un bon modèle. mais nous ne pouvont le confirmer avec présision car il y a d'autres moyens que nous pouvont utiliser pour mieux ameliorer les performances du modède."
      ],
      "metadata": {
        "id": "sgzCwFdPkrZR"
      }
    },
    {
      "cell_type": "code",
      "execution_count": 15,
      "metadata": {
        "id": "d5YF99NVfaZL"
      },
      "outputs": [],
      "source": [
        ""
      ]
    },
    {
      "cell_type": "markdown",
      "metadata": {
        "id": "oEZPtJmWfaZM"
      },
      "source": [
        "Avec une précision de 96,91%, KNN avec K = 1 (distance euclidienne) semble être un bon modèle dans l'ensemble. Mais nous ne pouvons pas encore confirmer cela, car il existe des moyens que nous pouvons utiliser pour améliorer les performances du modèle."
      ]
    },
    {
      "cell_type": "markdown",
      "metadata": {
        "id": "rYBmZ0BWfaZM"
      },
      "source": [
        "# 2. Exercice 2 : Précision pour chaque chiffre manuscrit"
      ]
    },
    {
      "cell_type": "markdown",
      "metadata": {
        "id": "t6wEYlhmfaZM"
      },
      "source": [
        "## 2.1 Extraction des sous ensembles du jeu de test correpondant à un chiffre"
      ]
    },
    {
      "cell_type": "markdown",
      "metadata": {
        "id": "Oob-tTKVfaZM"
      },
      "source": [
        "### Fonction d'extraction"
      ]
    },
    {
      "cell_type": "markdown",
      "metadata": {
        "id": "9Jx_IA_dfaZM"
      },
      "source": [
        "La fonction get_data_by_digit() prend en entrée la liste complète des images de chiffres manuscrits, leurs labels et un chiffre cible, et renvoie la liste des images de chiffres manusscrits et leurs labels correspondant au chiffre-clé renseigné"
      ]
    },
    {
      "cell_type": "code",
      "execution_count": 24,
      "metadata": {
        "id": "vjIUllWtfaZN"
      },
      "outputs": [],
      "source": [
        "def get_data_by_digit(X, y, digit):\n",
        "    \n",
        "    '''\n",
        "    Fonction pour sélectionner les données correspondant à un chiffre manuscrit donné\n",
        "\n",
        "            Parameters:\n",
        "                    X (Numpy Array): Vecteur contenant l'ensemble des images aplaties dans laquelle faire la sélection\n",
        "                    y (Numpy Array): Vecteur contenant les labels des images contenus dans X\n",
        "                    digit (int): Valeur entière contenant le chiffre manuscrit dont les images sont à sélectionner\n",
        "\n",
        "            Returns:\n",
        "                    X_digit_test (Numpy Array): Vecteur contenant l'ensemble des images aplaties correspondant au chiffre manuscrit \"digit\" spécifié\n",
        "                    y_digit_test (Numpy Array): Vecteur contenant les labels des images contenus dans X_digit_test\n",
        "                    \n",
        "    '''\n",
        "        \n",
        "    y_test_list = [elt[0] for elt in y.tolist()]\n",
        "    index_list = [i for i, elt in enumerate(y_test_list) if elt == digit]\n",
        "    \n",
        "    X_digit_test = X[index_list]\n",
        "    y_digit_test = y[index_list]\n",
        "    \n",
        "    return X_digit_test, y_digit_test"
      ]
    },
    {
      "cell_type": "markdown",
      "metadata": {
        "id": "HckIV1o6faZO"
      },
      "source": [
        "### Extraction des données pour un chiffre donné"
      ]
    },
    {
      "cell_type": "markdown",
      "metadata": {
        "id": "o5DlWMPcfaZO"
      },
      "source": [
        "<p style=\"text-align: left; font-size: 16px; color:#0f767a\"><span>🖥️  Ecrivez le code permettant de récupérer la liste des images de chiffres \"5\" manuscrits et les labels associés</span></p>"
      ]
    },
    {
      "cell_type": "code",
      "execution_count": 25,
      "metadata": {
        "id": "9SdBR4_bfaZP"
      },
      "outputs": [],
      "source": [
        "X_test_digit_5, y_test_digit_5 = get_data_by_digit(X_test, y_test, 5)"
      ]
    },
    {
      "cell_type": "markdown",
      "metadata": {
        "id": "ZYS0VVDWfaZP"
      },
      "source": [
        "<p style=\"text-align: left; font-size: 16px; color:#0f767a\"><span>🖥️  En vous inspirant du code du paragraphe \"Pré-traitement\", afficher les 4 premiers chiffres correspondants au chiffre manuscrit \"5\"</span></p>"
      ]
    },
    {
      "cell_type": "code",
      "execution_count": 27,
      "metadata": {
        "colab": {
          "base_uri": "https://localhost:8080/",
          "height": 266
        },
        "id": "rDV9yCPufaZP",
        "outputId": "bd83aa0e-26a8-4f81-e352-224638f27571"
      },
      "outputs": [
        {
          "output_type": "display_data",
          "data": {
            "image/png": "[encoded data removed]",
            "text/plain": [
              "<Figure size 1296x648 with 4 Axes>"
            ]
          },
          "metadata": {
            "needs_background": "light"
          }
        }
      ],
      "source": [
        "plt.figure(figsize=(18, 9))\n",
        "\n",
        "for j in range(4):\n",
        "    plt.subplot(1, 4, j+1)\n",
        "    plt.imshow(X_test_digit_5[j].reshape(28,28))\n",
        "\n",
        "plt.show()\n",
        "\n"
      ]
    },
    {
      "cell_type": "markdown",
      "metadata": {
        "id": "_WmY90kBfaZP"
      },
      "source": [
        "## 2.2 Calcul de la performance de l'algorithme pour chaque chiffre"
      ]
    },
    {
      "cell_type": "markdown",
      "metadata": {
        "id": "1EAeFrkjfaZP"
      },
      "source": [
        "<p style=\"text-align: left; font-size: 16px; color:#0f767a\"><span>🖥️  Ecrivez le code permettant de faire la prédiction, de calculer et d'afficher la précision (accuracy) pour chaque groupe de chiffre du jeu de données de test</span></p>"
      ]
    },
    {
      "cell_type": "code",
      "execution_count": 46,
      "metadata": {
        "id": "OOBCi4BafaZQ"
      },
      "outputs": [],
      "source": [
        "accuracy = []\n",
        "for j in range(0,10):\n",
        "  X_test_digit, y_test_digit = get_data_by_digit(X_test, y_test, j)\n",
        "  accuracy.append(MM3.score(X_test_digit, y_test_digit))"
      ]
    },
    {
      "cell_type": "code",
      "source": [
        "plt.plot(accuracy)\n",
        "plt.show()"
      ],
      "metadata": {
        "colab": {
          "base_uri": "https://localhost:8080/",
          "height": 265
        },
        "id": "CQ9FgNktn4wf",
        "outputId": "a8037084-8bed-47e7-c316-54801d890e89"
      },
      "execution_count": 41,
      "outputs": [
        {
          "output_type": "display_data",
          "data": {
            "image/png": "[encoded data removed]",
            "text/plain": [
              "<Figure size 432x288 with 1 Axes>"
            ]
          },
          "metadata": {
            "needs_background": "light"
          }
        }
      ]
    },
    {
      "cell_type": "markdown",
      "metadata": {
        "id": "MOeN2qvpfaZQ"
      },
      "source": [
        "## 2.3 Analyse"
      ]
    },
    {
      "cell_type": "markdown",
      "metadata": {
        "id": "g1vajMy9faZQ"
      },
      "source": [
        "<p style=\"text-align: left; font-size: 16px; color:#7a0f43\"><span>❓  Sur quels chiffres le modèle fonctionne-t-il le mieux ? </span></p>"
      ]
    },
    {
      "cell_type": "code",
      "source": [
        "print(f\"sur les chiffre 0 avec pour précision \\n0: {accuracy[0]}\")"
      ],
      "metadata": {
        "colab": {
          "base_uri": "https://localhost:8080/",
          "height": 0
        },
        "id": "kpwWFbeRq5pi",
        "outputId": "4e6d283f-c73d-48b2-fa34-9b7518cc1b64"
      },
      "execution_count": 72,
      "outputs": [
        {
          "output_type": "stream",
          "name": "stdout",
          "text": [
            "sur les chiffre 0 avec pour précision \n",
            "0: 0.9928571428571429\n"
          ]
        }
      ]
    },
    {
      "cell_type": "code",
      "source": [
        "print(f\"sur le chiffre 1 avec pour précision \\n1: {accuracy[1]} \")"
      ],
      "metadata": {
        "colab": {
          "base_uri": "https://localhost:8080/",
          "height": 0
        },
        "id": "rBox9WBgyMSI",
        "outputId": "1c00cfd4-de1e-4817-ef90-538539126db7"
      },
      "execution_count": 73,
      "outputs": [
        {
          "output_type": "stream",
          "name": "stdout",
          "text": [
            "sur le chiffre 1 avec pour précision \n",
            "1: 0.9947136563876652 \n"
          ]
        }
      ]
    },
    {
      "cell_type": "code",
      "source": [
        "print(f\"sur le chiffre 6 avec pour précision \\n6: {accuracy[6]}\")"
      ],
      "metadata": {
        "colab": {
          "base_uri": "https://localhost:8080/",
          "height": 0
        },
        "id": "MAD5IlgQyryO",
        "outputId": "1edec851-7355-4acb-81a2-77d23162cc75"
      },
      "execution_count": 74,
      "outputs": [
        {
          "output_type": "stream",
          "name": "stdout",
          "text": [
            "sur le chiffre 6 avec pour précision \n",
            "6: 0.9853862212943633\n"
          ]
        }
      ]
    },
    {
      "cell_type": "markdown",
      "metadata": {
        "id": "zZddt3HafaZR"
      },
      "source": [
        "<p style=\"text-align: left; font-size: 16px; color:#7a0f43\"><span>❓  Sur quels chiffres le modèle fonctionne-t-il le moins bien ? </span></p>"
      ]
    },
    {
      "cell_type": "code",
      "execution_count": 77,
      "metadata": {
        "colab": {
          "base_uri": "https://localhost:8080/",
          "height": 0
        },
        "id": "z5I1fSDafaZR",
        "outputId": "a1d0e240-63ef-40d9-9e6e-90fdb8a305e4"
      },
      "outputs": [
        {
          "output_type": "stream",
          "name": "stdout",
          "text": [
            "sur les chiffres 2,3,4,5,7,8 et 9 avec une précision respective \n",
            "2: 0.9612403100775194, \n",
            "3: 0.9603960396039604, \n",
            "4: 0.9613034623217923, \n",
            "5: 0.9641255605381166, \n",
            "7: 0.9649805447470817, \n",
            "8 0.944558521560575, \n",
            "9 0.958374628344896\n"
          ]
        }
      ],
      "source": [
        "print(f\"sur les chiffres 2,3,4,5,7,8 et 9 avec une précision respective \\n2: {accuracy[2]}, \\n3: {accuracy[3]}, \\n4: {accuracy[4]}, \\n5: {accuracy[5]}, \\n7: {accuracy[7]}, \\n8 {accuracy[8]}, \\n9 {accuracy[9]}\")"
      ]
    },
    {
      "cell_type": "markdown",
      "metadata": {
        "id": "XHd8wz4WfaZR"
      },
      "source": [
        "# 3. Exercice 3 : impact de la taille du jeu de données d'apprentissage"
      ]
    },
    {
      "cell_type": "markdown",
      "metadata": {
        "id": "c_qG82YTfaZR"
      },
      "source": [
        "L'idée ici est de vérifier comment la taille du jeu de donnée d'entrainement influe sur les performances du système"
      ]
    },
    {
      "cell_type": "markdown",
      "metadata": {
        "id": "_oNEyj4SfaZS"
      },
      "source": [
        "## 3.1 Sous-échantillonage à 1000 échantillons"
      ]
    },
    {
      "cell_type": "markdown",
      "metadata": {
        "id": "_zyiU0vWfaZS"
      },
      "source": [
        "Afin de sous-échantillonner le jeu de données, choisissons les 1000 premiers images du jeu de données et les 1000 labels associés"
      ]
    },
    {
      "cell_type": "code",
      "execution_count": 56,
      "metadata": {
        "id": "PcPM86gAfaZS"
      },
      "outputs": [],
      "source": [
        "N=1000\n",
        "X_train_sampled = X_train[:N]\n",
        "y_train_sampled = y_train[:N]"
      ]
    },
    {
      "cell_type": "markdown",
      "metadata": {
        "id": "lFOnqBUbfaZS"
      },
      "source": [
        "### 3.1.1 Affichage de la distribution des labels"
      ]
    },
    {
      "cell_type": "markdown",
      "metadata": {
        "id": "WJ3bvt-ofaZT"
      },
      "source": [
        "<p style=\"text-align: left; font-size: 16px; color:#0f767a\"><span>🖥️  Ecrivez le code permettant d'afficher la répartition des images par chiffre. Aidez-vous de la fonction display_labels()</span></p>"
      ]
    },
    {
      "cell_type": "code",
      "execution_count": 59,
      "metadata": {
        "colab": {
          "base_uri": "https://localhost:8080/",
          "height": 335
        },
        "id": "pS6r9n6CfaZT",
        "outputId": "6302be20-1e4f-4261-dcf9-80b152384120"
      },
      "outputs": [
        {
          "output_type": "display_data",
          "data": {
            "image/png": "[encoded data removed]",
            "text/plain": [
              "<Figure size 864x720 with 1 Axes>"
            ]
          },
          "metadata": {}
        }
      ],
      "source": [
        "plt.figure(figsize=(18, 9))\n",
        "plt.subplot(1, 2, 2)\n",
        "display_labels(labels_array=y_train_sampled)\n",
        "\n",
        "plt.show()"
      ]
    },
    {
      "cell_type": "markdown",
      "metadata": {
        "id": "iLCDdeXnfaZT"
      },
      "source": [
        "### 3.1.2 Entrainement du KNN"
      ]
    },
    {
      "cell_type": "markdown",
      "metadata": {
        "id": "tZ3kl4JufaZT"
      },
      "source": [
        "<p style=\"text-align: left; font-size: 16px; color:#0f767a\"><span>🖥️  Ecrivez le code permettant d'entrainer un algorithme KNN sur le jeu de données sous-échantillonné à 1000 exemples</span></p>"
      ]
    },
    {
      "cell_type": "code",
      "execution_count": 63,
      "metadata": {
        "colab": {
          "base_uri": "https://localhost:8080/",
          "height": 0
        },
        "id": "f8xcJ6JwfaZT",
        "outputId": "726f0672-6c63-4539-995c-ca279e06e608"
      },
      "outputs": [
        {
          "output_type": "execute_result",
          "data": {
            "text/plain": [
              "KNeighborsClassifier(n_neighbors=1)"
            ]
          },
          "metadata": {},
          "execution_count": 63
        }
      ],
      "source": [
        "MM4 = KNeighborsClassifier(n_neighbors=1, p=2)\n",
        "MM4.fit(X_train_sampled,y_train_sampled)"
      ]
    },
    {
      "cell_type": "markdown",
      "metadata": {
        "id": "7cClS6fTfaZT"
      },
      "source": [
        "### 3.1.3 Calcul de la précision pour chaque chiffre du jeu de test"
      ]
    },
    {
      "cell_type": "markdown",
      "metadata": {
        "id": "URFsW_7EfaZU"
      },
      "source": [
        "<p style=\"text-align: left; font-size: 16px; color:#0f767a\"><span>🖥️  Ecrivez le code permettant de faire la prédiction, de calculer et d'afficher la précision (accuracy) pour chaque groupe de chiffre du jeu de données de test</span></p>"
      ]
    },
    {
      "cell_type": "code",
      "execution_count": 67,
      "metadata": {
        "id": "BeAqZHxJfaZU"
      },
      "outputs": [],
      "source": [
        "accuracy_2 = []\n",
        "for j in range(0,10):\n",
        "  X_test_digit, y_test_digit = get_data_by_digit(X_test, y_test, j)\n",
        "  accuracy_2.append(MM4.score(X_test_digit, y_test_digit))"
      ]
    },
    {
      "cell_type": "code",
      "source": [
        "plt.plot(accuracy_2)\n",
        "plt.show()"
      ],
      "metadata": {
        "colab": {
          "base_uri": "https://localhost:8080/",
          "height": 265
        },
        "id": "6GsJ2Ut5w4UG",
        "outputId": "157445e4-fa59-4c38-e26c-65183e6221de"
      },
      "execution_count": 68,
      "outputs": [
        {
          "output_type": "display_data",
          "data": {
            "image/png": "[encoded data removed]",
            "text/plain": [
              "<Figure size 432x288 with 1 Axes>"
            ]
          },
          "metadata": {
            "needs_background": "light"
          }
        }
      ]
    },
    {
      "cell_type": "markdown",
      "metadata": {
        "id": "eHTtXqQ3faZU"
      },
      "source": [
        "### 3.1.4 Analyse"
      ]
    },
    {
      "cell_type": "markdown",
      "metadata": {
        "id": "yChfUwSufaZU"
      },
      "source": [
        "<p style=\"text-align: left; font-size: 16px; color:#7a0f43\"><span>❓  Comment analysez-vous la performance de ce modèle par rapport au modèle entrainé sur l'échantillon complet ? </span></p>"
      ]
    },
    {
      "cell_type": "code",
      "execution_count": 71,
      "metadata": {
        "colab": {
          "base_uri": "https://localhost:8080/",
          "height": 0
        },
        "id": "I84Q90nnfaZU",
        "outputId": "963c2123-7adf-4985-a372-c796fb648bb3"
      },
      "outputs": [
        {
          "output_type": "stream",
          "name": "stdout",
          "text": [
            "la performance de ce modèle n'est pas très bonne, on remarque que le resultat est passé de 0,94 a 0,72, d'ou la précision redéscendu tres bas.\n"
          ]
        }
      ],
      "source": [
        "print(f\"la performance de ce modèle n'est pas très bonne, on remarque que le resultat est passé de 0,94 a 0,72, d'ou la précision redéscendu tres bas.\")"
      ]
    },
    {
      "cell_type": "markdown",
      "metadata": {
        "id": "O370ePSVfaZV"
      },
      "source": [
        "<p style=\"text-align: left; font-size: 16px; color:#7a0f43\"><span>❓  Quel est le chiffre dont la prédiction est la moins performante ? Comment expliquez-vous cette baisse de performance pour ce chiffre en particulier par rapport aux autres ? </span></p>"
      ]
    },
    {
      "cell_type": "code",
      "execution_count": 80,
      "metadata": {
        "colab": {
          "base_uri": "https://localhost:8080/",
          "height": 0
        },
        "id": "K-787pigfaZV",
        "outputId": "e7619464-8b39-43ae-d535-70c198fce155"
      },
      "outputs": [
        {
          "output_type": "stream",
          "name": "stdout",
          "text": [
            "le chiffre qui n'a pas un bon resultat est 8. En fesant la comparaison entre les données correspondantes et précision obtenue , on se rend compte que la bonne répartition des données par classe excellente.\n",
            " 1: 11,6% et 8: 8,7%\n"
          ]
        }
      ],
      "source": [
        "print(f\"le chiffre qui n'a pas un bon resultat est 8. En fesant la comparaison entre les données correspondantes et précision obtenue , on se rend compte que la bonne répartition des données par classe excellente.\\n 1: 11,6% et 8: 8,7%\")"
      ]
    },
    {
      "cell_type": "markdown",
      "metadata": {
        "id": "dyOodPuQfaZV"
      },
      "source": [
        "## 3.2 Sous-échantillonage à 10000 échantillons"
      ]
    },
    {
      "cell_type": "markdown",
      "metadata": {
        "id": "ufR3BvDnfaZV"
      },
      "source": [
        "Appliquez les mêmes instructions que pour l'échantillonnage à 1000 échantillons"
      ]
    },
    {
      "cell_type": "code",
      "execution_count": 82,
      "metadata": {
        "colab": {
          "base_uri": "https://localhost:8080/",
          "height": 335
        },
        "id": "mLFCd8jMfaZV",
        "outputId": "98184b5e-1aaa-4d3a-ac1d-e1d2ce025a81"
      },
      "outputs": [
        {
          "output_type": "display_data",
          "data": {
            "image/png": "[encoded data removed]",
            "text/plain": [
              "<Figure size 864x720 with 1 Axes>"
            ]
          },
          "metadata": {}
        }
      ],
      "source": [
        "N=10000\n",
        "X_train_sampled = X_train[:N]\n",
        "y_train_sampled = y_train[:N]\n",
        "\n",
        "plt.figure(figsize=(18, 9))\n",
        "plt.subplot(1, 2, 2)\n",
        "display_labels(labels_array=y_train_sampled)\n",
        "\n",
        "plt.show()"
      ]
    },
    {
      "cell_type": "markdown",
      "metadata": {
        "id": "PAiwObwyfaZW"
      },
      "source": [
        "<p style=\"text-align: left; font-size: 16px; color:#0f767a\"><span>🖥️  Ecrivez le code permettant d'entrainer un algorithme KNN sur le jeu de données sous-échantillonné à 10000 exemples</span></p>"
      ]
    },
    {
      "cell_type": "code",
      "execution_count": 83,
      "metadata": {
        "colab": {
          "base_uri": "https://localhost:8080/",
          "height": 0
        },
        "id": "EkjuC8aMfaZW",
        "outputId": "b08993a9-481d-42a9-9dd9-2267e311bfa8"
      },
      "outputs": [
        {
          "output_type": "execute_result",
          "data": {
            "text/plain": [
              "KNeighborsClassifier(n_neighbors=1)"
            ]
          },
          "metadata": {},
          "execution_count": 83
        }
      ],
      "source": [
        "MM5 = KNeighborsClassifier(n_neighbors=1, p=2)\n",
        "MM5 .fit(X_train_sampled,y_train_sampled)"
      ]
    },
    {
      "cell_type": "markdown",
      "metadata": {
        "id": "t_5sTJD2faZW"
      },
      "source": [
        "<p style=\"text-align: left; font-size: 16px; color:#0f767a\"><span>🖥️  Ecrivez le code permettant de faire la prédiction, de calculer et d'afficher la précision (accuracy) pour chaque groupe de chiffre du jeu de données de test</span></p>"
      ]
    },
    {
      "cell_type": "code",
      "execution_count": 87,
      "metadata": {
        "id": "hJkWLrOTfaZW"
      },
      "outputs": [],
      "source": [
        "accuracy_3 = []\n",
        "for j in range(0,10):\n",
        "  X_test_digit, y_test_digit = get_data_by_digit(X_test, y_test, j)\n",
        "  accuracy_3.append(MM5.score(X_test_digit, y_test_digit))"
      ]
    },
    {
      "cell_type": "markdown",
      "metadata": {
        "id": "B6aSJ3jufaZW"
      },
      "source": [
        "<p style=\"text-align: left; font-size: 16px; color:#7a0f43\"><span>❓  Comment analysez-vous la performance de ce modèle par rapport au modèle entrainé sur l'échantillon complet et celui sur l'échantillonnage à 1000 échantillons ? </span></p>"
      ]
    },
    {
      "cell_type": "code",
      "source": [
        "print(f\"on remarque que la courbe bleu est bien plus precise que lacourbe orange celui ci represente un echantillon de 10000.\\n Ce qui signifi que la quantité et ainsi que la qualité on une très grande influance sur la prédiction de l'algorithme.\")"
      ],
      "metadata": {
        "colab": {
          "base_uri": "https://localhost:8080/",
          "height": 0
        },
        "id": "NP5A2Lp44zdG",
        "outputId": "08529f1b-b47a-4a64-8297-ceb2fc19ee65"
      },
      "execution_count": 89,
      "outputs": [
        {
          "output_type": "stream",
          "name": "stdout",
          "text": [
            "on remarque que la courbe bleu est bien plus precise que lacourbe orange celui ci represente un echantillon de 10000.\n",
            " Ce qui signifi que la quantité et ainsi que la qualité on une très grande influance sur la prédiction de l'algorithme.\n"
          ]
        }
      ]
    },
    {
      "cell_type": "code",
      "execution_count": 88,
      "metadata": {
        "colab": {
          "base_uri": "https://localhost:8080/",
          "height": 267
        },
        "id": "2nGe_KrUfaZW",
        "outputId": "e8375ece-4c5d-4e94-ab28-7efb73fa54a2"
      },
      "outputs": [
        {
          "output_type": "display_data",
          "data": {
            "image/png": "[encoded data removed]",
            "text/plain": [
              "<Figure size 432x288 with 1 Axes>"
            ]
          },
          "metadata": {
            "needs_background": "light"
          }
        }
      ],
      "source": [
        "plt.plot(accuracy)\n",
        "plt.plot(accuracy_3)\n",
        "plt.show()"
      ]
    },
    {
      "cell_type": "markdown",
      "metadata": {
        "id": "HPbZJjqEfaZX"
      },
      "source": [
        "<p style=\"text-align: left; font-size: 16px; color:#7a0f43\"><span>❓  Quel est le chiffre dont la prédiction est la moins performante ? Comment expliquez-vous cette baisse de performance pour ce chiffre en particulier par rapport aux autres ? </span></p>"
      ]
    },
    {
      "cell_type": "code",
      "execution_count": 90,
      "metadata": {
        "colab": {
          "base_uri": "https://localhost:8080/",
          "height": 0
        },
        "id": "erM2MOtHfaZX",
        "outputId": "6ded0431-c19d-4c45-c00f-421e204ec7c5"
      },
      "outputs": [
        {
          "output_type": "stream",
          "name": "stdout",
          "text": [
            " Le chiffre donc la prédiction est la moins performante est 8. Ainsi la baisse de la performance pour ce chiffre est du au fait de la taille de l'echantillon d'entrainnement.\n"
          ]
        }
      ],
      "source": [
        "print(f\" Le chiffre donc la prédiction est la moins performante est 8. Ainsi la baisse de la performance pour ce chiffre est du au fait de la taille de l'echantillon d'entrainnement.\")"
      ]
    },
    {
      "cell_type": "markdown",
      "metadata": {
        "id": "8nENYgRLfaZX"
      },
      "source": [
        "# 4. Exercice 4 : Choisissez la bonne valeur de k"
      ]
    },
    {
      "cell_type": "markdown",
      "metadata": {
        "id": "Zs_EZbMTfaZX"
      },
      "source": [
        "L'idée ici est de déterminer quelle valeur de k permet de produire la meilleure performance pour le KNN. Vous étudierez pour chaque valeur de k entre 1 et 15, la précision du modèle et son temps de prédiction"
      ]
    },
    {
      "cell_type": "code",
      "execution_count": 91,
      "metadata": {
        "id": "0A2b4_ugfaZY"
      },
      "outputs": [],
      "source": [
        "KMAX = 15"
      ]
    },
    {
      "cell_type": "markdown",
      "metadata": {
        "id": "eDGIyNW2faZY"
      },
      "source": [
        "## 4.1 Entrainement pour plusieurs valeurs de k"
      ]
    },
    {
      "cell_type": "markdown",
      "metadata": {
        "id": "4IL3g0zbfaZY"
      },
      "source": [
        "<p style=\"text-align: left; font-size: 16px; color:#0f767a\"><span>🖥️  Ecrivez le code permettant d'entrainer, de tester et d'afficher la précision (accuracy) d' un algorithme KNN de manière itérative en incrémentant de 1 le nombre de voisins différent à chaque itération. Mesurez à chaque itération, le temps necessaire pour l'entrainement et le test. Incrémentez le nombre de voisins de 1 à 15</span></p>"
      ]
    },
    {
      "cell_type": "code",
      "execution_count": 96,
      "metadata": {
        "colab": {
          "base_uri": "https://localhost:8080/",
          "height": 337
        },
        "id": "tToaya4JfaZZ",
        "outputId": "09471fe3-f627-47fe-c62f-94e525a4d13a"
      },
      "outputs": [
        {
          "output_type": "display_data",
          "data": {
            "image/png": "[encoded data removed]",
            "text/plain": [
              "<Figure size 432x288 with 1 Axes>"
            ]
          },
          "metadata": {
            "needs_background": "light"
          }
        },
        {
          "output_type": "stream",
          "name": "stdout",
          "text": [
            "le temps pour chaque execution :\n",
            "[34.80443000793457, 32.88823747634888, 33.82765007019043, 36.70783567428589, 36.70098662376404, 36.737133264541626, 37.05987858772278, 37.04244613647461, 37.10236191749573, 36.97358965873718, 37.06183195114136, 37.02777671813965, 37.17196726799011, 37.11748194694519, 37.46885681152344]\n",
            "le temps total est 545.6924641132355\n"
          ]
        }
      ],
      "source": [
        "import time \n",
        "result_kn = []\n",
        "t = []\n",
        "for j in range(1,16):\n",
        " t0 = time.time()\n",
        " kn = KNeighborsClassifier(n_neighbors=j)\n",
        " kn.fit(X_train, y_train)\n",
        " result_kn.append(kn.score(X_test, y_test))\n",
        " t1 = time.time()\n",
        " t.append(t1-t0)\n",
        "plt.plot(result_kn)\n",
        "plt.show()\n",
        "\n",
        "print(f\"le temps pour chaque execution :\\n{t}\")\n",
        "print(f\"le temps total est {sum(t)}\")"
      ]
    },
    {
      "cell_type": "markdown",
      "metadata": {
        "id": "fy8Kf4c4faZZ"
      },
      "source": [
        "## 4.2 Analyse"
      ]
    },
    {
      "cell_type": "markdown",
      "metadata": {
        "id": "Ve_gJaCNfaZZ"
      },
      "source": [
        "<p style=\"text-align: left; font-size: 16px; color:#7a0f43\"><span>❓  Pour quelle valeur de k le biais du modèle est-il le plus élevé ?\n",
        " </span></p>"
      ]
    },
    {
      "cell_type": "code",
      "execution_count": 97,
      "metadata": {
        "colab": {
          "base_uri": "https://localhost:8080/",
          "height": 0
        },
        "id": "V5ST3g9_faZa",
        "outputId": "d34c813e-07c2-457f-df93-a21acf375410"
      },
      "outputs": [
        {
          "output_type": "stream",
          "name": "stdout",
          "text": [
            "Pour k = 15\n"
          ]
        }
      ],
      "source": [
        "print(f\"Pour k = 15\")"
      ]
    },
    {
      "cell_type": "markdown",
      "metadata": {
        "id": "qPK8ggeZfaZa"
      },
      "source": [
        "<p style=\"text-align: left; font-size: 16px; color:#7a0f43\"><span>❓  Pour quelle valeur de k la variance du modèle est-elle la plus élevé ?\n",
        " </span></p>"
      ]
    },
    {
      "cell_type": "code",
      "execution_count": 98,
      "metadata": {
        "colab": {
          "base_uri": "https://localhost:8080/",
          "height": 0
        },
        "id": "3BrlwZqzfaZa",
        "outputId": "52a10954-ea8b-4c8e-e64a-33d26325d55c"
      },
      "outputs": [
        {
          "output_type": "stream",
          "name": "stdout",
          "text": [
            "pour k = 1\n"
          ]
        }
      ],
      "source": [
        "print(f\"pour k = 1\")"
      ]
    },
    {
      "cell_type": "markdown",
      "metadata": {
        "id": "Q9clm7knfaZa"
      },
      "source": [
        "<p style=\"text-align: left; font-size: 16px; color:#7a0f43\"><span>❓  Quelle est le meilleur compromis biais-variance ?\n",
        " </span></p>"
      ]
    },
    {
      "cell_type": "code",
      "execution_count": 99,
      "metadata": {
        "colab": {
          "base_uri": "https://localhost:8080/",
          "height": 0
        },
        "id": "9lVL6ys-faZb",
        "outputId": "cbefe2f6-e870-49ee-dcec-de95cd4ad73a"
      },
      "outputs": [
        {
          "output_type": "stream",
          "name": "stdout",
          "text": [
            "Le meilleur compromis biais-variance est k = 2 , on retrouve des bons resultats.\n"
          ]
        }
      ],
      "source": [
        "print(\"Le meilleur compromis biais-variance est k = 2 , on retrouve des bons resultats.\")"
      ]
    },
    {
      "cell_type": "markdown",
      "metadata": {
        "id": "hYAgDBFcfaZb"
      },
      "source": [
        "## Fin du TD"
      ]
    }
  ],
  "metadata": {
    "kernelspec": {
      "display_name": "Python 3 (ipykernel)",
      "language": "python",
      "name": "python3"
    },
    "language_info": {
      "codemirror_mode": {
        "name": "ipython",
        "version": 3
      },
      "file_extension": ".py",
      "mimetype": "text/x-python",
      "name": "python",
      "nbconvert_exporter": "python",
      "pygments_lexer": "ipython3",
      "version": "3.7.2"
    },
    "colab": {
      "name": "TD1(TEKAM TOGOM yvan)",
      "provenance": [],
      "collapsed_sections": [
        "hYAgDBFcfaZb"
      ],
      "include_colab_link": true
    }
  },
  "nbformat": 4,
  "nbformat_minor": 0
}